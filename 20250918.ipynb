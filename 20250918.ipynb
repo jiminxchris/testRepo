{
 "cells": [
  {
   "cell_type": "markdown",
   "id": "10d193d9",
   "metadata": {},
   "source": [
    "## 2025-09-18"
   ]
  },
  {
   "cell_type": "code",
   "execution_count": 5,
   "id": "ef097dfa",
   "metadata": {},
   "outputs": [
    {
     "name": "stdout",
     "output_type": "stream",
     "text": [
      "Hello VSCode\n"
     ]
    }
   ],
   "source": [
    "print(\"Hello VSCode\")"
   ]
  },
  {
   "cell_type": "code",
   "execution_count": 7,
   "id": "5e11cb20",
   "metadata": {},
   "outputs": [
    {
     "name": "stdout",
     "output_type": "stream",
     "text": [
      "안녕안녕안녕안녕안녕\n"
     ]
    }
   ],
   "source": [
    "print(\"안녕\"*5)"
   ]
  },
  {
   "cell_type": "code",
   "execution_count": 6,
   "id": "940d1aa6",
   "metadata": {},
   "outputs": [
    {
     "name": "stdout",
     "output_type": "stream",
     "text": [
      "안녕\n"
     ]
    }
   ],
   "source": [
    "print(\"안녕\")"
   ]
  }
 ],
 "metadata": {
  "kernelspec": {
   "display_name": "Python 3",
   "language": "python",
   "name": "python3"
  },
  "language_info": {
   "codemirror_mode": {
    "name": "ipython",
    "version": 3
   },
   "file_extension": ".py",
   "mimetype": "text/x-python",
   "name": "python",
   "nbconvert_exporter": "python",
   "pygments_lexer": "ipython3",
   "version": "3.11.9"
  }
 },
 "nbformat": 4,
 "nbformat_minor": 5
}
